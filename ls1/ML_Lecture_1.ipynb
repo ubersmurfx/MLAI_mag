{
  "cells": [
    {
      "cell_type": "code",
      "execution_count": 1,
      "metadata": {
        "colab": {
          "base_uri": "https://localhost:8080/",
          "height": 369
        },
        "id": "SmKGr3sn256I",
        "outputId": "545f8610-2782-4cb2-8ef1-b0ff6f7134a2"
      },
      "outputs": [
        {
          "data": {
            "text/html": [
              "<div>\n",
              "<style scoped>\n",
              "    .dataframe tbody tr th:only-of-type {\n",
              "        vertical-align: middle;\n",
              "    }\n",
              "\n",
              "    .dataframe tbody tr th {\n",
              "        vertical-align: top;\n",
              "    }\n",
              "\n",
              "    .dataframe thead th {\n",
              "        text-align: right;\n",
              "    }\n",
              "</style>\n",
              "<table border=\"1\" class=\"dataframe\">\n",
              "  <thead>\n",
              "    <tr style=\"text-align: right;\">\n",
              "      <th></th>\n",
              "      <th>Series_reference</th>\n",
              "      <th>Period</th>\n",
              "      <th>Data_value</th>\n",
              "      <th>Suppressed</th>\n",
              "      <th>STATUS</th>\n",
              "      <th>UNITS</th>\n",
              "      <th>Magnitude</th>\n",
              "      <th>Subject</th>\n",
              "      <th>Group</th>\n",
              "      <th>Series_title_1</th>\n",
              "      <th>Series_title_2</th>\n",
              "      <th>Series_title_3</th>\n",
              "      <th>Series_title_4</th>\n",
              "      <th>Series_title_5</th>\n",
              "    </tr>\n",
              "  </thead>\n",
              "  <tbody>\n",
              "    <tr>\n",
              "      <th>0</th>\n",
              "      <td>BDCQ.SEA1AA</td>\n",
              "      <td>2011.06</td>\n",
              "      <td>80078.0</td>\n",
              "      <td>NaN</td>\n",
              "      <td>F</td>\n",
              "      <td>Number</td>\n",
              "      <td>0</td>\n",
              "      <td>Business Data Collection - BDC</td>\n",
              "      <td>Industry by employment variable</td>\n",
              "      <td>Filled jobs</td>\n",
              "      <td>Agriculture, Forestry and Fishing</td>\n",
              "      <td>Actual</td>\n",
              "      <td>NaN</td>\n",
              "      <td>NaN</td>\n",
              "    </tr>\n",
              "    <tr>\n",
              "      <th>1</th>\n",
              "      <td>BDCQ.SEA1AA</td>\n",
              "      <td>2011.09</td>\n",
              "      <td>78324.0</td>\n",
              "      <td>NaN</td>\n",
              "      <td>F</td>\n",
              "      <td>Number</td>\n",
              "      <td>0</td>\n",
              "      <td>Business Data Collection - BDC</td>\n",
              "      <td>Industry by employment variable</td>\n",
              "      <td>Filled jobs</td>\n",
              "      <td>Agriculture, Forestry and Fishing</td>\n",
              "      <td>Actual</td>\n",
              "      <td>NaN</td>\n",
              "      <td>NaN</td>\n",
              "    </tr>\n",
              "    <tr>\n",
              "      <th>2</th>\n",
              "      <td>BDCQ.SEA1AA</td>\n",
              "      <td>2011.12</td>\n",
              "      <td>85850.0</td>\n",
              "      <td>NaN</td>\n",
              "      <td>F</td>\n",
              "      <td>Number</td>\n",
              "      <td>0</td>\n",
              "      <td>Business Data Collection - BDC</td>\n",
              "      <td>Industry by employment variable</td>\n",
              "      <td>Filled jobs</td>\n",
              "      <td>Agriculture, Forestry and Fishing</td>\n",
              "      <td>Actual</td>\n",
              "      <td>NaN</td>\n",
              "      <td>NaN</td>\n",
              "    </tr>\n",
              "    <tr>\n",
              "      <th>3</th>\n",
              "      <td>BDCQ.SEA1AA</td>\n",
              "      <td>2012.03</td>\n",
              "      <td>90743.0</td>\n",
              "      <td>NaN</td>\n",
              "      <td>F</td>\n",
              "      <td>Number</td>\n",
              "      <td>0</td>\n",
              "      <td>Business Data Collection - BDC</td>\n",
              "      <td>Industry by employment variable</td>\n",
              "      <td>Filled jobs</td>\n",
              "      <td>Agriculture, Forestry and Fishing</td>\n",
              "      <td>Actual</td>\n",
              "      <td>NaN</td>\n",
              "      <td>NaN</td>\n",
              "    </tr>\n",
              "    <tr>\n",
              "      <th>4</th>\n",
              "      <td>BDCQ.SEA1AA</td>\n",
              "      <td>2012.06</td>\n",
              "      <td>81780.0</td>\n",
              "      <td>NaN</td>\n",
              "      <td>F</td>\n",
              "      <td>Number</td>\n",
              "      <td>0</td>\n",
              "      <td>Business Data Collection - BDC</td>\n",
              "      <td>Industry by employment variable</td>\n",
              "      <td>Filled jobs</td>\n",
              "      <td>Agriculture, Forestry and Fishing</td>\n",
              "      <td>Actual</td>\n",
              "      <td>NaN</td>\n",
              "      <td>NaN</td>\n",
              "    </tr>\n",
              "  </tbody>\n",
              "</table>\n",
              "</div>"
            ],
            "text/plain": [
              "  Series_reference   Period  Data_value Suppressed STATUS   UNITS  Magnitude  \\\n",
              "0      BDCQ.SEA1AA  2011.06     80078.0        NaN      F  Number          0   \n",
              "1      BDCQ.SEA1AA  2011.09     78324.0        NaN      F  Number          0   \n",
              "2      BDCQ.SEA1AA  2011.12     85850.0        NaN      F  Number          0   \n",
              "3      BDCQ.SEA1AA  2012.03     90743.0        NaN      F  Number          0   \n",
              "4      BDCQ.SEA1AA  2012.06     81780.0        NaN      F  Number          0   \n",
              "\n",
              "                          Subject                            Group  \\\n",
              "0  Business Data Collection - BDC  Industry by employment variable   \n",
              "1  Business Data Collection - BDC  Industry by employment variable   \n",
              "2  Business Data Collection - BDC  Industry by employment variable   \n",
              "3  Business Data Collection - BDC  Industry by employment variable   \n",
              "4  Business Data Collection - BDC  Industry by employment variable   \n",
              "\n",
              "  Series_title_1                     Series_title_2 Series_title_3  \\\n",
              "0    Filled jobs  Agriculture, Forestry and Fishing         Actual   \n",
              "1    Filled jobs  Agriculture, Forestry and Fishing         Actual   \n",
              "2    Filled jobs  Agriculture, Forestry and Fishing         Actual   \n",
              "3    Filled jobs  Agriculture, Forestry and Fishing         Actual   \n",
              "4    Filled jobs  Agriculture, Forestry and Fishing         Actual   \n",
              "\n",
              "   Series_title_4  Series_title_5  \n",
              "0             NaN             NaN  \n",
              "1             NaN             NaN  \n",
              "2             NaN             NaN  \n",
              "3             NaN             NaN  \n",
              "4             NaN             NaN  "
            ]
          },
          "execution_count": 1,
          "metadata": {},
          "output_type": "execute_result"
        }
      ],
      "source": [
        "\n",
        "import pandas as pd\n",
        "dataframe = pd.read_csv('./db1.csv', sep=',')\n",
        "dataframe.head()"
      ]
    },
    {
      "cell_type": "code",
      "execution_count": 2,
      "metadata": {
        "id": "Fz4iZ3tJ44C0"
      },
      "outputs": [
        {
          "name": "stderr",
          "output_type": "stream",
          "text": [
            "/usr/lib/python3/dist-packages/scipy/__init__.py:146: UserWarning: A NumPy version >=1.17.3 and <1.25.0 is required for this version of SciPy (detected version 1.26.4\n",
            "  warnings.warn(f\"A NumPy version >={np_minversion} and <{np_maxversion}\"\n"
          ]
        }
      ],
      "source": [
        "import numpy as np\n",
        "from scipy import stats as st\n",
        "\n",
        "import matplotlib.pyplot as plt\n",
        "from matplotlib.font_manager import FontProperties\n",
        "import seaborn as sns\n"
      ]
    },
    {
      "cell_type": "code",
      "execution_count": 3,
      "metadata": {
        "id": "Imb-n7Ss5WVN"
      },
      "outputs": [],
      "source": [
        "import ydata_profiling"
      ]
    },
    {
      "cell_type": "code",
      "execution_count": 4,
      "metadata": {
        "id": "FFHmfkzq5kGl"
      },
      "outputs": [],
      "source": [
        "dataframe.drop(['Data_value'], axis=1, inplace=True) # unimportant variables"
      ]
    },
    {
      "cell_type": "code",
      "execution_count": 5,
      "metadata": {
        "colab": {
          "base_uri": "https://localhost:8080/"
        },
        "id": "ZqLSIS9C6u--",
        "outputId": "2098f46c-0978-42fd-ee00-d4a3abe48d8f"
      },
      "outputs": [
        {
          "name": "stdout",
          "output_type": "stream",
          "text": [
            "<class 'pandas.core.frame.DataFrame'>\n",
            "RangeIndex: 22963 entries, 0 to 22962\n",
            "Data columns (total 13 columns):\n",
            " #   Column            Non-Null Count  Dtype  \n",
            "---  ------            --------------  -----  \n",
            " 0   Series_reference  22963 non-null  object \n",
            " 1   Period            22963 non-null  float64\n",
            " 2   Suppressed        2839 non-null   object \n",
            " 3   STATUS            22963 non-null  object \n",
            " 4   UNITS             22963 non-null  object \n",
            " 5   Magnitude         22963 non-null  int64  \n",
            " 6   Subject           22963 non-null  object \n",
            " 7   Group             22963 non-null  object \n",
            " 8   Series_title_1    22963 non-null  object \n",
            " 9   Series_title_2    22963 non-null  object \n",
            " 10  Series_title_3    22963 non-null  object \n",
            " 11  Series_title_4    0 non-null      float64\n",
            " 12  Series_title_5    0 non-null      float64\n",
            "dtypes: float64(3), int64(1), object(9)\n",
            "memory usage: 2.3+ MB\n"
          ]
        }
      ],
      "source": [
        "dataframe.info()"
      ]
    },
    {
      "cell_type": "code",
      "execution_count": 6,
      "metadata": {
        "colab": {
          "base_uri": "https://localhost:8080/",
          "height": 218
        },
        "id": "ZLPc2wOO5-e6",
        "outputId": "e2127fd0-68ea-4092-e89c-899f698a8f78"
      },
      "outputs": [],
      "source": [
        "dataframe = dataframe.rename(columns={\"Schizophrenia disorders (share of population) - Sex: Both - Age: Age-standardized\": \"Schizophrenia disorders\"})\n",
        "dataframe = dataframe.rename(columns={\"Depressive disorders (share of population) - Sex: Both - Age: Age-standardized\": \"Depressive disorders\"})\n",
        "dataframe = dataframe.rename(columns={\"Anxiety disorders (share of population) - Sex: Both - Age: Age-standardized\": \"Anxiety disorders\"})\n",
        "dataframe = dataframe.rename(columns={\"Bipolar disorders (share of population) - Sex: Both - Age: Age-standardized\": \"Bipolar disorders\"})\n",
        "dataframe = dataframe.rename(columns={\"Eating disorders (share of population) - Sex: Both - Age: Age-standardized\": \"Eating disorders\"})"
      ]
    },
    {
      "cell_type": "code",
      "execution_count": 7,
      "metadata": {
        "colab": {
          "base_uri": "https://localhost:8080/",
          "height": 300
        },
        "id": "B269LF-EAsq0",
        "outputId": "1996e6a2-64fa-4e1b-92e9-91eca7a4cf99"
      },
      "outputs": [
        {
          "data": {
            "text/html": [
              "<div>\n",
              "<style scoped>\n",
              "    .dataframe tbody tr th:only-of-type {\n",
              "        vertical-align: middle;\n",
              "    }\n",
              "\n",
              "    .dataframe tbody tr th {\n",
              "        vertical-align: top;\n",
              "    }\n",
              "\n",
              "    .dataframe thead th {\n",
              "        text-align: right;\n",
              "    }\n",
              "</style>\n",
              "<table border=\"1\" class=\"dataframe\">\n",
              "  <thead>\n",
              "    <tr style=\"text-align: right;\">\n",
              "      <th></th>\n",
              "      <th>Period</th>\n",
              "      <th>Magnitude</th>\n",
              "      <th>Series_title_4</th>\n",
              "      <th>Series_title_5</th>\n",
              "    </tr>\n",
              "  </thead>\n",
              "  <tbody>\n",
              "    <tr>\n",
              "      <th>count</th>\n",
              "      <td>22963.000000</td>\n",
              "      <td>22963.000000</td>\n",
              "      <td>0.0</td>\n",
              "      <td>0.0</td>\n",
              "    </tr>\n",
              "    <tr>\n",
              "      <th>mean</th>\n",
              "      <td>2017.121172</td>\n",
              "      <td>2.310064</td>\n",
              "      <td>NaN</td>\n",
              "      <td>NaN</td>\n",
              "    </tr>\n",
              "    <tr>\n",
              "      <th>std</th>\n",
              "      <td>3.699584</td>\n",
              "      <td>2.919651</td>\n",
              "      <td>NaN</td>\n",
              "      <td>NaN</td>\n",
              "    </tr>\n",
              "    <tr>\n",
              "      <th>min</th>\n",
              "      <td>2011.060000</td>\n",
              "      <td>0.000000</td>\n",
              "      <td>NaN</td>\n",
              "      <td>NaN</td>\n",
              "    </tr>\n",
              "    <tr>\n",
              "      <th>25%</th>\n",
              "      <td>2014.060000</td>\n",
              "      <td>0.000000</td>\n",
              "      <td>NaN</td>\n",
              "      <td>NaN</td>\n",
              "    </tr>\n",
              "    <tr>\n",
              "      <th>50%</th>\n",
              "      <td>2017.060000</td>\n",
              "      <td>0.000000</td>\n",
              "      <td>NaN</td>\n",
              "      <td>NaN</td>\n",
              "    </tr>\n",
              "    <tr>\n",
              "      <th>75%</th>\n",
              "      <td>2020.090000</td>\n",
              "      <td>6.000000</td>\n",
              "      <td>NaN</td>\n",
              "      <td>NaN</td>\n",
              "    </tr>\n",
              "    <tr>\n",
              "      <th>max</th>\n",
              "      <td>2024.030000</td>\n",
              "      <td>6.000000</td>\n",
              "      <td>NaN</td>\n",
              "      <td>NaN</td>\n",
              "    </tr>\n",
              "  </tbody>\n",
              "</table>\n",
              "</div>"
            ],
            "text/plain": [
              "             Period     Magnitude  Series_title_4  Series_title_5\n",
              "count  22963.000000  22963.000000             0.0             0.0\n",
              "mean    2017.121172      2.310064             NaN             NaN\n",
              "std        3.699584      2.919651             NaN             NaN\n",
              "min     2011.060000      0.000000             NaN             NaN\n",
              "25%     2014.060000      0.000000             NaN             NaN\n",
              "50%     2017.060000      0.000000             NaN             NaN\n",
              "75%     2020.090000      6.000000             NaN             NaN\n",
              "max     2024.030000      6.000000             NaN             NaN"
            ]
          },
          "execution_count": 7,
          "metadata": {},
          "output_type": "execute_result"
        }
      ],
      "source": [
        "dataframe.describe()"
      ]
    },
    {
      "cell_type": "code",
      "execution_count": 1,
      "metadata": {},
      "outputs": [
        {
          "ename": "NameError",
          "evalue": "name 'ydata_profiling' is not defined",
          "output_type": "error",
          "traceback": [
            "\u001b[0;31m---------------------------------------------------------------------------\u001b[0m",
            "\u001b[0;31mNameError\u001b[0m                                 Traceback (most recent call last)",
            "Cell \u001b[0;32mIn[1], line 1\u001b[0m\n\u001b[0;32m----> 1\u001b[0m profile_report \u001b[38;5;241m=\u001b[39m \u001b[43mydata_profiling\u001b[49m\u001b[38;5;241m.\u001b[39mProfileReport(dataframe, progress_bar\u001b[38;5;241m=\u001b[39m\u001b[38;5;28;01mFalse\u001b[39;00m)\n\u001b[1;32m      2\u001b[0m profile_report\u001b[38;5;241m.\u001b[39mto_html()\n",
            "\u001b[0;31mNameError\u001b[0m: name 'ydata_profiling' is not defined"
          ]
        }
      ],
      "source": [
        "\n",
        "profile_report = ydata_profiling.ProfileReport(dataframe, progress_bar=False)\n",
        "profile_report.to_html()"
      ]
    },
    {
      "cell_type": "code",
      "execution_count": null,
      "metadata": {},
      "outputs": [],
      "source": [
        "var_info = profile_report.get_description()['messages'] # metadata from report"
      ]
    }
  ],
  "metadata": {
    "colab": {
      "provenance": []
    },
    "kernelspec": {
      "display_name": "Python 3",
      "name": "python3"
    },
    "language_info": {
      "codemirror_mode": {
        "name": "ipython",
        "version": 3
      },
      "file_extension": ".py",
      "mimetype": "text/x-python",
      "name": "python",
      "nbconvert_exporter": "python",
      "pygments_lexer": "ipython3",
      "version": "3.10.12"
    }
  },
  "nbformat": 4,
  "nbformat_minor": 0
}
